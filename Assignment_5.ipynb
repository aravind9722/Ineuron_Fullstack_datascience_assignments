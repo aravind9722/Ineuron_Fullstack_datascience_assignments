{
  "nbformat": 4,
  "nbformat_minor": 0,
  "metadata": {
    "colab": {
      "name": "Assignment_5.ipynb",
      "provenance": [],
      "collapsed_sections": []
    },
    "kernelspec": {
      "name": "python3",
      "display_name": "Python 3"
    },
    "language_info": {
      "name": "python"
    }
  },
  "cells": [
    {
      "cell_type": "markdown",
      "source": [
        "**1. What does an empty dictionary's code look like?**\n",
        "\n",
        "**Ans**: Dictionary are enclosed in `{ } `"
      ],
      "metadata": {
        "id": "in1ytM1kwHD5"
      }
    },
    {
      "cell_type": "markdown",
      "source": [
        "**2. What is the value of a dictionary value with the key 'foo' and the value 42?**\n",
        "\n",
        "**Ans**: `dict = {'foo': 42}`"
      ],
      "metadata": {
        "id": "5GELBvHzwmGw"
      }
    },
    {
      "cell_type": "markdown",
      "source": [
        "**3. What is the most significant distinction between a dictionary and a list?**\n",
        "\n",
        "**Ans**:  A list is an ordered sequence of objects, whereas dictionaries are unordered sets. However, the main difference is that items in dictionaries are accessed via keys and not via their position.\n",
        "\n",
        "`list = [1,2,3]`\n",
        "\n",
        "\n",
        "`dict = {'a':1 ,'b'=2}`"
      ],
      "metadata": {
        "id": "_Jf3sD5SxFeg"
      }
    },
    {
      "cell_type": "markdown",
      "source": [
        "**4. What happens if you try to access `spam['foo']` if spam is `{'bar': 100}`?**\n",
        "\n",
        "**Ans**: It will give Keyerror : 'foo'"
      ],
      "metadata": {
        "id": "p1R39mpIxt-S"
      }
    },
    {
      "cell_type": "code",
      "source": [
        "spam = {'bar': 100}\n",
        "spam['foo']"
      ],
      "metadata": {
        "colab": {
          "base_uri": "https://localhost:8080/",
          "height": 183
        },
        "id": "V8F_qUepx9wg",
        "outputId": "4d03ebb3-f2e1-49cf-9236-ad073b96c786"
      },
      "execution_count": 1,
      "outputs": [
        {
          "output_type": "error",
          "ename": "KeyError",
          "evalue": "ignored",
          "traceback": [
            "\u001b[0;31m---------------------------------------------------------------------------\u001b[0m",
            "\u001b[0;31mKeyError\u001b[0m                                  Traceback (most recent call last)",
            "\u001b[0;32m<ipython-input-1-56a8e50c7ff8>\u001b[0m in \u001b[0;36m<module>\u001b[0;34m()\u001b[0m\n\u001b[1;32m      1\u001b[0m \u001b[0mspam\u001b[0m \u001b[0;34m=\u001b[0m \u001b[0;34m{\u001b[0m\u001b[0;34m'bar'\u001b[0m\u001b[0;34m:\u001b[0m \u001b[0;36m100\u001b[0m\u001b[0;34m}\u001b[0m\u001b[0;34m\u001b[0m\u001b[0;34m\u001b[0m\u001b[0m\n\u001b[0;32m----> 2\u001b[0;31m \u001b[0mspam\u001b[0m\u001b[0;34m[\u001b[0m\u001b[0;34m'foo'\u001b[0m\u001b[0;34m]\u001b[0m\u001b[0;34m\u001b[0m\u001b[0;34m\u001b[0m\u001b[0m\n\u001b[0m",
            "\u001b[0;31mKeyError\u001b[0m: 'foo'"
          ]
        }
      ]
    },
    {
      "cell_type": "markdown",
      "source": [
        "**5. If a dictionary is stored in spam,what is the difference between the\n",
        "expressions 'cat' in spam and 'cat' in spam.keys()?**\n",
        "\n",
        "**Ans**: Both represents keys for a dictionary, no differences."
      ],
      "metadata": {
        "id": "DRBuYFs1yPUR"
      }
    },
    {
      "cell_type": "code",
      "source": [
        "spam = {'cat': 10, 'dog': 5}\n",
        "print('\"cat\" in spam is : ', 'cat' in spam)\n",
        "print('\"cat\" in spam keys() is : ', 'cat' in spam.keys())"
      ],
      "metadata": {
        "colab": {
          "base_uri": "https://localhost:8080/"
        },
        "id": "kkzg79evy8_p",
        "outputId": "b870ee2b-b472-4507-f444-213f2e729f74"
      },
      "execution_count": 5,
      "outputs": [
        {
          "output_type": "stream",
          "name": "stdout",
          "text": [
            "\"cat\" in spam is :  True\n",
            "\"cat\" in spam keys() is :  True\n"
          ]
        }
      ]
    },
    {
      "cell_type": "markdown",
      "source": [
        "**6. If a dictionary is stored in spam, what is the difference between the expressions `'cat' in spam` and `'cat' in spam.values()`?**\n",
        "\n",
        "**Ans**: Here the 'cat' in spam.values() looks for cat string in the dictionary variable. and 'cat' in spam looks for the keys."
      ],
      "metadata": {
        "id": "f9FqTd2xz1Gx"
      }
    },
    {
      "cell_type": "code",
      "source": [
        "spam1 = {'cat': 10, 'dog': 5}\n",
        "print('\"cat\" in spam is : ', 'cat' in spam1)\n",
        "print('\"cat\" in spam keys() is : ', 'cat' in spam1.values())"
      ],
      "metadata": {
        "colab": {
          "base_uri": "https://localhost:8080/"
        },
        "id": "4zLPz1ie0bRR",
        "outputId": "3e065bd2-72b5-48ae-bc5c-b5b624b08230"
      },
      "execution_count": 6,
      "outputs": [
        {
          "output_type": "stream",
          "name": "stdout",
          "text": [
            "\"cat\" in spam is :  True\n",
            "\"cat\" in spam keys() is :  False\n"
          ]
        }
      ]
    },
    {
      "cell_type": "markdown",
      "source": [
        "**7. What is a shortcut for the following code?**\n",
        "\n",
        "`if 'color' not in spam:`\n",
        "\n",
        "`spam['color'] = 'black'`\n",
        "\n",
        "**Ans**:\n",
        "The `setdefault()` method returns the value of the item with the specified key.\n",
        "\n",
        "If the key does not present, insert the key with the given value"
      ],
      "metadata": {
        "id": "B3WgVltE0afB"
      }
    },
    {
      "cell_type": "code",
      "source": [
        "spam.setdefault('color','black')\n",
        "print(spam)"
      ],
      "metadata": {
        "colab": {
          "base_uri": "https://localhost:8080/"
        },
        "id": "AtEgD9Rd2LW6",
        "outputId": "38f06870-35f1-4fe9-b425-5d6fcb79dc5c"
      },
      "execution_count": 9,
      "outputs": [
        {
          "output_type": "stream",
          "name": "stdout",
          "text": [
            "{'cat': 10, 'dog': 5, 'color': 'black'}\n"
          ]
        }
      ]
    },
    {
      "cell_type": "markdown",
      "source": [
        "**8. How do you \"pretty print\" dictionary values using which module and function?**\n",
        "\n",
        "**Ans**: Pretty print can be done using the module `pprint`"
      ],
      "metadata": {
        "id": "ktDX5B_02hX5"
      }
    },
    {
      "cell_type": "code",
      "source": [
        "import pprint #module\n",
        "pprint.pprint(spam)"
      ],
      "metadata": {
        "colab": {
          "base_uri": "https://localhost:8080/"
        },
        "id": "9jWoaEFh2-SM",
        "outputId": "9088fd8f-d72a-45a6-8cb3-cdf302ac0727"
      },
      "execution_count": 10,
      "outputs": [
        {
          "output_type": "stream",
          "name": "stdout",
          "text": [
            "{'cat': 10, 'color': 'black', 'dog': 5}\n"
          ]
        }
      ]
    }
  ]
}