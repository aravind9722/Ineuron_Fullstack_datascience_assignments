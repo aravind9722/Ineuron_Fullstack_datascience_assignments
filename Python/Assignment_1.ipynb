{
  "nbformat": 4,
  "nbformat_minor": 0,
  "metadata": {
    "colab": {
      "name": "Assignment_1.ipynb",
      "provenance": [],
      "collapsed_sections": []
    },
    "kernelspec": {
      "name": "python3",
      "display_name": "Python 3"
    },
    "language_info": {
      "name": "python"
    }
  },
  "cells": [
    {
      "cell_type": "markdown",
      "source": [
        "**1) In the below elements which of them are values or an expression? eg:- values can be\n",
        "integer or string and expressions will be mathematical operators.** \n",
        "\n",
        "                  *,'hello',  -87.8, -, /, +, 6\n",
        "\n",
        "**Answer**: *, -, /, +  are operators, expressions.\n",
        "\n",
        "\n",
        "values are 'hello' (str), -87.8 (float), and 6 (int).\n",
        "        \n",
        "        \n",
        "\n"
      ],
      "metadata": {
        "id": "sd04LjFYTsBE"
      }
    },
    {
      "cell_type": "markdown",
      "source": [
        "**2) What is the difference between string and variable?**\n",
        "\n",
        "**Ans**: Variable can store the information of many data types like string to numbers and string is a type of information that we would enclose inside double quotes \"\" or single quotes. variable can store a tring, but string can't store a variable."
      ],
      "metadata": {
        "id": "ZbJhZXjcXIPX"
      }
    },
    {
      "cell_type": "markdown",
      "source": [
        "**3) Describe three different data types.**\n",
        "\n",
        "* Int, Boolean, Float are the basic data types.\n",
        "\n",
        "* **Int:** Whole numbers, eg: int = 36.\n",
        "\n",
        "* **Float:** Numbers with decimal values, eg: 46.16\n",
        "\n",
        "* **Blooean:** Logical data type which represents true or false, 5 > 6 is True.\n"
      ],
      "metadata": {
        "id": "AWKDUfmYYqZt"
      }
    },
    {
      "cell_type": "markdown",
      "source": [
        "**4) What is an expression made up of? What do all expressions do?**\n",
        "\n",
        "**Ans** : An expresssion is the combination of variable, any operands and operators \n",
        "\n",
        "    Python evaluate expressions to give out the output result.\n",
        "\n",
        "\n",
        "\n",
        "```\n",
        "a = 10\n",
        "b = 20\n",
        "a + b - 5  # This is an expression\n",
        "> Output : 25\n",
        "```\n",
        "\n",
        "\n",
        "\n",
        "\n"
      ],
      "metadata": {
        "id": "RjvJO0IDaw_w"
      }
    },
    {
      "cell_type": "markdown",
      "source": [
        "**5) This assignment statements, like spam = 10. What is the difference between an\n",
        "expression and a statement?**  \n",
        "**Ans:**\n",
        "* spam = 10 statement is code which is used to assign a variable or display a \n",
        "\n",
        "    variable, it doesnt do any computaion like expression.\n",
        "\n",
        "* expressions combination of operands and operators in which python compute and evaluate the output."
      ],
      "metadata": {
        "id": "7IpomkDfdVG3"
      }
    },
    {
      "cell_type": "markdown",
      "source": [
        "**6) After running the following code, what does the variable bacon contain?**\n",
        "\n",
        "bacon = 22\n",
        "\n",
        "bacon + 1\n",
        "\n",
        "**Ans**: bacon contains 22 only as the <bacon + 1> expression is not assigned to bacon variable.\n",
        "\n"
      ],
      "metadata": {
        "id": "wFwoa9hVfB-g"
      }
    },
    {
      "cell_type": "code",
      "source": [
        "bacon = 22\n",
        "bacon + 1\n",
        "bacon"
      ],
      "metadata": {
        "colab": {
          "base_uri": "https://localhost:8080/"
        },
        "id": "xVYA-PeUg1bD",
        "outputId": "454346cc-690e-4f49-b083-c627802cb8a2"
      },
      "execution_count": 2,
      "outputs": [
        {
          "output_type": "execute_result",
          "data": {
            "text/plain": [
              "22"
            ]
          },
          "metadata": {},
          "execution_count": 2
        }
      ]
    },
    {
      "cell_type": "markdown",
      "source": [
        "**7) What should the values of the following two terms be?**\n",
        "\n",
        "'spam'+ 'spamspam'\n",
        "\n",
        "'spam' * 3\n",
        "\n",
        "**Ans**: First expression is *String concatination* gives **'spamspamspam'** as output\n",
        "         \n",
        "second expression is *String multiplication* gives same **'spamspamspam'** as output."
      ],
      "metadata": {
        "id": "J2UmtcRMg9zF"
      }
    },
    {
      "cell_type": "code",
      "source": [
        "print('spam'+ 'spamspam')\n",
        "\n",
        "print('spam' * 3)"
      ],
      "metadata": {
        "colab": {
          "base_uri": "https://localhost:8080/"
        },
        "id": "-m0Y6MCSiNMq",
        "outputId": "22da9480-015d-48e2-a581-ff6692a7b5aa"
      },
      "execution_count": 4,
      "outputs": [
        {
          "output_type": "stream",
          "name": "stdout",
          "text": [
            "spamspamspam\n",
            "spamspamspam\n"
          ]
        }
      ]
    },
    {
      "cell_type": "markdown",
      "source": [
        "**8) Why is eggs a valid variable name while 100 is invalid?**\n",
        "\n",
        "**Ans**: As per rules variable must start with alphabet not a number.\n",
        "\n",
        "\n",
        "so here in 100 is where 1 is numeric value so a variable cannot start with number so its invalid, But eggs is a valid variable name as it starts with alphabet 'e'."
      ],
      "metadata": {
        "id": "ZfH6iHdWibH0"
      }
    },
    {
      "cell_type": "markdown",
      "source": [
        "**9) What three functions can be used to get the integer, floating-point number, or string\n",
        "version of a value?**\n",
        "\n",
        "**Ans**: int() = integer\n",
        "\n",
        "float() = floating-pointnumber\n",
        "\n",
        "str() = string."
      ],
      "metadata": {
        "id": "U8CK-Ufqj0BI"
      }
    },
    {
      "cell_type": "markdown",
      "source": [
        "10) Why does this expression cause an error? How can you fix it?\n",
        "\n",
        "\n",
        "'I have eaten' + 99 + 'burritos.'\n",
        "\n",
        "**Ans**: Here we are concatinating string to a integer data type, which is not possible, Fix is either by type casting or using quotes for 99."
      ],
      "metadata": {
        "id": "zrWznFYnlVVr"
      }
    },
    {
      "cell_type": "code",
      "source": [
        "print('I have eaten ' + str(99) + ' burritos.') # Method 1 \n",
        "print('I have eaten ' + '99' + ' burritos.') # Method 2"
      ],
      "metadata": {
        "colab": {
          "base_uri": "https://localhost:8080/"
        },
        "id": "sHWhoGzhmSKT",
        "outputId": "497e9117-94f8-4175-b196-739226b0a1fa"
      },
      "execution_count": 10,
      "outputs": [
        {
          "output_type": "stream",
          "name": "stdout",
          "text": [
            "I have eaten 99 burritos.\n",
            "I have eaten 99 burritos.\n"
          ]
        }
      ]
    }
  ]
}