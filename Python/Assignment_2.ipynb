{
  "nbformat": 4,
  "nbformat_minor": 0,
  "metadata": {
    "colab": {
      "name": "Assignment_2.ipynb",
      "provenance": [],
      "collapsed_sections": []
    },
    "kernelspec": {
      "name": "python3",
      "display_name": "Python 3"
    },
    "language_info": {
      "name": "python"
    }
  },
  "cells": [
    {
      "cell_type": "markdown",
      "source": [
        "**1.What are the two values of the Boolean data type? How do you write them?**\n",
        "\n",
        "**Ans**: Two values are **T**rue and **F**alse, we have to write T and F in uppercase and rest in lower case.\n"
      ],
      "metadata": {
        "id": "hTRznEvOOfcw"
      }
    },
    {
      "cell_type": "code",
      "source": [
        "x=True\n",
        "y=False\n",
        "print(x,type(x))\n",
        "print(y,type(y))"
      ],
      "metadata": {
        "colab": {
          "base_uri": "https://localhost:8080/"
        },
        "id": "p8B5U7pxTVyM",
        "outputId": "b25d3971-abe7-4c78-a810-9f97fee60b31"
      },
      "execution_count": 1,
      "outputs": [
        {
          "output_type": "stream",
          "name": "stdout",
          "text": [
            "True <class 'bool'>\n",
            "False <class 'bool'>\n"
          ]
        }
      ]
    },
    {
      "cell_type": "markdown",
      "source": [
        "**2.What are the three different types of Boolean operators?**\n",
        "\n",
        "**Ans**:*and, or, not.* are the three types of Boolean operators."
      ],
      "metadata": {
        "id": "F-BSZxPyRNnB"
      }
    },
    {
      "cell_type": "code",
      "source": [
        "print((7 > 1) and (3 < 8))\t\n",
        "print((8 == 8) or (5 !=5))\t\n",
        "print(not(3 <= 2))\t\t\t"
      ],
      "metadata": {
        "colab": {
          "base_uri": "https://localhost:8080/"
        },
        "id": "nRmi4U6gUubW",
        "outputId": "c83684a7-7429-4c39-b26f-1d334bc854d9"
      },
      "execution_count": 2,
      "outputs": [
        {
          "output_type": "stream",
          "name": "stdout",
          "text": [
            "True\n",
            "True\n",
            "True\n"
          ]
        }
      ]
    },
    {
      "cell_type": "markdown",
      "source": [
        "**3.Make a list of each Boolean operator's truth tables (i.e. every possible combination of Boolean values for the operator and what it evaluate)?**\n",
        "\n",
        "**Ans**: Truth table for each Boolean operator\n",
        "\n",
        "####**Truth Table for and operator**              \n",
        "True and True = True\n",
        "\n",
        "True and False = False\n",
        "\n",
        "False and True = False\n",
        "\n",
        "False and False = False\n",
        "\n",
        "####**Truth Table for or operator**\n",
        "\n",
        "True or True = True\n",
        "\n",
        "True or False = True\n",
        "\n",
        "False or True = True\n",
        "\n",
        "False or False = False\n",
        "\n",
        "####**Truth Table for not operator**\n",
        "\n",
        "True not = False\n",
        "\n",
        "False not = True"
      ],
      "metadata": {
        "id": "OZtEYQOjUICC"
      }
    },
    {
      "cell_type": "markdown",
      "source": [
        "**4.What are the values of the following expressions ?**\n",
        "\n",
        "a) (5 > 4) and (3 == 5)\n",
        "\n",
        "b) not (5 > 4)\n",
        "\n",
        "c) (5 > 4) or (3 == 5)\n",
        "\n",
        "d) not ((5 > 4) or (3 == 5))\n",
        "\n",
        "e) (True and True) and (True == False)\n",
        "\n",
        "f) (not False) or (not True)\n",
        "\n",
        "**Ans**: a) False\n",
        "         b) False\n",
        "         c) True\n",
        "         d) False\n",
        "         e) False\n",
        "         f) True"
      ],
      "metadata": {
        "id": "OVzEqkgiXAW4"
      }
    },
    {
      "cell_type": "code",
      "source": [
        "print((5 > 4) and (3 == 5))\n",
        "print(not (5 > 4))\n",
        "print((5 > 4) or (3 == 5))\n",
        "print(not ((5 > 4) or (3 == 5)))\n",
        "print((True and True) and (True == False))\n",
        "print((not False) or (not True))"
      ],
      "metadata": {
        "colab": {
          "base_uri": "https://localhost:8080/"
        },
        "id": "YZwz41w6V1qy",
        "outputId": "ee0a765e-8a3e-4218-e2f1-5e25b27b90f6"
      },
      "execution_count": 4,
      "outputs": [
        {
          "output_type": "stream",
          "name": "stdout",
          "text": [
            "False\n",
            "False\n",
            "True\n",
            "False\n",
            "False\n",
            "True\n"
          ]
        }
      ]
    },
    {
      "cell_type": "markdown",
      "source": [
        "**5 What are the six comparison operators?**\n",
        "\n",
        "**Ans**: **==** (Equal to), **!=** (Not equal to), **<** (Lesser than), **>** (Greater than), **<=** (Lesser than or equal to) , **=>** (Greater than or equal to)"
      ],
      "metadata": {
        "id": "qBXjLLNJYdV0"
      }
    },
    {
      "cell_type": "markdown",
      "source": [
        "**6.How do you tell the difference between the equal to and assignment operators? Describe a condition and when you would use one.**\n",
        "\n",
        " **Ans**:  **=**  is assignment operator which is used to store a value.\n",
        "\n",
        " **==** is equal to which compares two values to give a Boolean result."
      ],
      "metadata": {
        "id": "FT5xFpD5ZI6d"
      }
    },
    {
      "cell_type": "code",
      "source": [
        "a = 10 #Assignment operator to store a variable\n",
        "print('a =',a)\n",
        "print(a == 11) #Equal to operator which comapres values"
      ],
      "metadata": {
        "colab": {
          "base_uri": "https://localhost:8080/"
        },
        "id": "3QfJ3FIxaFDZ",
        "outputId": "2763a3f0-92d9-4154-e8eb-a99c691717ff"
      },
      "execution_count": 12,
      "outputs": [
        {
          "output_type": "stream",
          "name": "stdout",
          "text": [
            "a = 10\n",
            "False\n"
          ]
        }
      ]
    },
    {
      "cell_type": "markdown",
      "source": [
        "**7.Identify the three blocks in this code:**\n",
        "\n",
        "spam = 0\n",
        "\n",
        "if spam == 10:\n",
        "\n",
        "print('eggs')\n",
        "\n",
        "if spam > 5:\n",
        "\n",
        "print('bacon')\n",
        "\n",
        "else:\n",
        "\n",
        "print('ham')\n",
        "\n",
        "print('spam')\n",
        "\n",
        "print('spam')\n",
        "\n",
        "**Ans**: One of the most distinctive features of python is its use of indentation to mark blocks of code. if its not followed a 'TabError' is raised in that case. here in this code three blocks were below two if statements and one else statement, which is fixed in below code."
      ],
      "metadata": {
        "id": "eERb8b7fa8-r"
      }
    },
    {
      "cell_type": "code",
      "source": [
        "spam = 0\n",
        "if spam == 10:\n",
        "  print('eggs')\n",
        "\n",
        "if spam > 5:\n",
        "  print('bacon')\n",
        "\n",
        "else:\n",
        "  print('ham')\n",
        "  print('spam')\n",
        "  print('spam')"
      ],
      "metadata": {
        "colab": {
          "base_uri": "https://localhost:8080/"
        },
        "id": "godKn5c4b6jV",
        "outputId": "717cf0d5-2729-44ec-c96a-5d620e850e4a"
      },
      "execution_count": 16,
      "outputs": [
        {
          "output_type": "stream",
          "name": "stdout",
          "text": [
            "ham\n",
            "spam\n",
            "spam\n"
          ]
        }
      ]
    },
    {
      "cell_type": "markdown",
      "source": [
        "**8.Write code that prints Hello if 1 is stored in spam, prints Howdy if 2 is stored in spam, and prints\n",
        "Greetings! if anything else is stored in spam**"
      ],
      "metadata": {
        "id": "z0i9FVvbcif7"
      }
    },
    {
      "cell_type": "code",
      "source": [
        "spam=0\n",
        "if spam == 1:\n",
        "  print('Hello')\n",
        "if spam == 2:\n",
        "    print('Howdy')\n",
        "else:\n",
        "    print('Greetings!')"
      ],
      "metadata": {
        "colab": {
          "base_uri": "https://localhost:8080/"
        },
        "id": "PWDY-ohdc5PH",
        "outputId": "522c8d77-247f-44b5-ef47-dfc7ff7039bd"
      },
      "execution_count": 26,
      "outputs": [
        {
          "output_type": "stream",
          "name": "stdout",
          "text": [
            "Greetings!\n"
          ]
        }
      ]
    },
    {
      "cell_type": "markdown",
      "source": [
        "**9.If your programme is stuck in an endless loop, what keys you’ll press?**\n",
        "\n",
        "**Ans**: You can stop an infinite loop with keys CTRL + C"
      ],
      "metadata": {
        "id": "465LKMkYZ7AS"
      }
    },
    {
      "cell_type": "markdown",
      "source": [
        "**10.How can you tell the difference between break and continue?**\n",
        "\n",
        "**Ans**: break and continue both statements alters the loop, \n",
        "\n",
        "break terminates a loop,\n",
        "\n",
        "Continue moves the excecution back to start of loop."
      ],
      "metadata": {
        "id": "mjXOdjk6eAji"
      }
    },
    {
      "cell_type": "markdown",
      "source": [
        "**11.In a for loop, what is the difference between range(10), range(0, 10), and range(0, 10, 1)?**\n",
        "\n",
        "**Ans**: range(10) returns sequence of numbers from 0-9 not 10th\n",
        "\n",
        "range(0,10) returns sequence numbers starts from 0 and stops before 9\n",
        "\n",
        "range(0,10,1) returns sequence numbers starts from 0 and stops before 9 with increment of 1.\n"
      ],
      "metadata": {
        "id": "wEKXlaibfrec"
      }
    },
    {
      "cell_type": "markdown",
      "source": [
        "**12.Write a short program that prints the numbers 1 to 10 using a for loop. Then write an equivalent\n",
        "program that prints the numbers 1 to 10 using a while loop.**"
      ],
      "metadata": {
        "id": "ib68tvFwhbpV"
      }
    },
    {
      "cell_type": "code",
      "source": [
        "#Ans\n",
        "print('# USING FOR LOOP')\n",
        "for i in range(1,11):\n",
        "  print(i, end = ' ')\n",
        "\n",
        "print()\n",
        "\n",
        "print ('# USING WHILE LOOP')\n",
        "n=1\n",
        "while n < 11:\n",
        "  print(n, end= ' ')\n",
        "  n += 1"
      ],
      "metadata": {
        "colab": {
          "base_uri": "https://localhost:8080/"
        },
        "id": "sMNel1sejbaS",
        "outputId": "471efe4f-fa87-467b-ca51-35912ec8a8c7"
      },
      "execution_count": 46,
      "outputs": [
        {
          "output_type": "stream",
          "name": "stdout",
          "text": [
            "# USING FOR LOOP\n",
            "1 2 3 4 5 6 7 8 9 10 \n",
            "# USING WHILE LOOP\n",
            "1 2 3 4 5 6 7 8 9 10 "
          ]
        }
      ]
    },
    {
      "cell_type": "markdown",
      "source": [
        "**13.If you had a function named bacon() inside a module named spam, how would you call it after importing spam?**\n",
        "\n",
        "**Ans**: Function called by **spam.bacon()**"
      ],
      "metadata": {
        "id": "hjgQ8LBRlAYg"
      }
    }
  ]
}
