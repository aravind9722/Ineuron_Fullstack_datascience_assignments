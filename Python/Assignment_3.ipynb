{
  "nbformat": 4,
  "nbformat_minor": 0,
  "metadata": {
    "colab": {
      "name": "Assignment_3.ipynb",
      "provenance": [],
      "collapsed_sections": []
    },
    "kernelspec": {
      "name": "python3",
      "display_name": "Python 3"
    },
    "language_info": {
      "name": "python"
    }
  },
  "cells": [
    {
      "cell_type": "markdown",
      "source": [
        "**1. Why are functions advantageous to have in your programs?** \n",
        "\n",
        "**Ans**: The first importance is `reusability`, once a function is defined we can use it many times. second use is *abstraction*, people who use your code don't want to know about how it works internally.   \n"
      ],
      "metadata": {
        "id": "SQ65d8u3nYh0"
      }
    },
    {
      "cell_type": "markdown",
      "source": [
        "**2. When does the code in a function run: when it's specified or when it's called?**\n",
        "\n",
        "**Ans**: Function runs only when its called, not when its specified"
      ],
      "metadata": {
        "id": "p01072p0ohAN"
      }
    },
    {
      "cell_type": "markdown",
      "source": [
        "**3. What statement creates a function?**\n",
        "\n",
        "**Ans**:  The `def` keyword statement creates a function."
      ],
      "metadata": {
        "id": "CUgz9g0Go4oL"
      }
    },
    {
      "cell_type": "code",
      "source": [
        "#example\n",
        "def sum(a,b):\n",
        "  \"\"\"this gives sum of two values\"\"\"\n",
        "  print(a+b)\n",
        "\n",
        "sum(9,6)"
      ],
      "metadata": {
        "colab": {
          "base_uri": "https://localhost:8080/"
        },
        "id": "rb0MLZVgpzNF",
        "outputId": "c672c824-cbf4-4468-c422-84a07ec97651"
      },
      "execution_count": 7,
      "outputs": [
        {
          "output_type": "stream",
          "name": "stdout",
          "text": [
            "15\n"
          ]
        }
      ]
    },
    {
      "cell_type": "markdown",
      "source": [
        "**4. What is the difference between a function and a function call?**\n",
        "\n",
        "**Ans**: A function is procedure to achieve a particular result while function call is using this function to achive that task."
      ],
      "metadata": {
        "id": "V4uDOXCfq6g8"
      }
    },
    {
      "cell_type": "markdown",
      "source": [
        "**5. How many global scopes are there in a Python program? How many local scopes?**\n",
        "\n",
        "**Ans**: There is one global scope, per python excecution and local scope variables exist only within the function and can be accessed only by those functions."
      ],
      "metadata": {
        "id": "80XGXj-1rUjM"
      }
    },
    {
      "cell_type": "markdown",
      "source": [
        "**6. What happens to variables in a local scope when the function call returns?**\n",
        "\n",
        "**Ans**: When function call returns the local scope is popped from the memory and will be able to access only when the function is called again."
      ],
      "metadata": {
        "id": "x1ix3hIjst7c"
      }
    },
    {
      "cell_type": "markdown",
      "source": [
        "**7. What is the concept of a return value? Is it possible to have a return value in an expression?**\n",
        "\n",
        "**Ans**: The return value is a statement that is used to end an execution of a function call and gives the result of the expressions as output. Yes it's possible to have return value in expression"
      ],
      "metadata": {
        "id": "NSD1gWiHtjgV"
      }
    },
    {
      "cell_type": "markdown",
      "source": [
        "**8. If a function does not have a return statement, what is the return value of a call to that function?**\n",
        "\n",
        "**Ans**: If there is no return statement, the return value would be None."
      ],
      "metadata": {
        "id": "6Dtyn4JJushW"
      }
    },
    {
      "cell_type": "markdown",
      "source": [
        "**9. How do you make a function variable refer to the global variable?**\n",
        "\n",
        "**Ans**: Usually if a variable is created inside a function it becomes local variable. For a function variable to refer to the global variable we can use `global` function."
      ],
      "metadata": {
        "id": "J-56h1nnvSoV"
      }
    },
    {
      "cell_type": "markdown",
      "source": [
        "**10. What is the data type of None?**\n",
        "\n",
        "**Ans**: None is a Nonetype."
      ],
      "metadata": {
        "id": "RYm1Yjxvxqk-"
      }
    },
    {
      "cell_type": "markdown",
      "source": [
        "**11. What does the sentence import areallyourpetsnamederic do?**\n",
        "\n",
        "**Ans**: This sentence imports module areallyourpetsnamederic."
      ],
      "metadata": {
        "id": "MJOvY2UXx0F1"
      }
    },
    {
      "cell_type": "markdown",
      "source": [
        "**12. If you had a bacon() feature in a spam module, what would you call it after importing spam?**\n",
        "\n",
        "**Ans**: Call it by =  `spam.bacon()`"
      ],
      "metadata": {
        "id": "XvVEO9z9yQb9"
      }
    },
    {
      "cell_type": "markdown",
      "source": [
        "**13. What can you do to save a programme from crashing if it encounters an error?**\n",
        "\n",
        "**Ans**: The best practicce is placing **try** and **except** block, when it encounters error the control is passed to the except block, by which the error code is skipped and rest of the code runs."
      ],
      "metadata": {
        "id": "zameY60tyj7m"
      }
    },
    {
      "cell_type": "markdown",
      "source": [
        "**14. What is the purpose of the try clause? What is the purpose of the except clause?**\n",
        "\n",
        "**Ans**: The **try** *clause is used to test a block of code*, and if there is error it is passed to *except block which handles the error.*"
      ],
      "metadata": {
        "id": "R_TsRpo8zSw2"
      }
    }
  ]
}