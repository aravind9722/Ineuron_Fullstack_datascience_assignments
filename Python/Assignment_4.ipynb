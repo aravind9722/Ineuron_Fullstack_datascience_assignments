{
  "nbformat": 4,
  "nbformat_minor": 0,
  "metadata": {
    "colab": {
      "name": "Assignment_4.ipynb",
      "provenance": [],
      "collapsed_sections": []
    },
    "kernelspec": {
      "name": "python3",
      "display_name": "Python 3"
    },
    "language_info": {
      "name": "python"
    }
  },
  "cells": [
    {
      "cell_type": "markdown",
      "source": [
        "**1. What exactly is `[]`?**\n",
        "\n",
        "**Ans**: `[]` are square brackets which represents `lists` in python. here there is no value in it so its an **empty list**."
      ],
      "metadata": {
        "id": "PfSCPeh325K5"
      }
    },
    {
      "cell_type": "markdown",
      "source": [
        "**2. In a list of values stored in a variable called spam, how would you assign the value 'hello' as the third value? (Assume `[2, 4, 6, 8, 10]` are in spam.)**\n",
        "\n",
        "**Ans**: `spam[2] = 'hello'`"
      ],
      "metadata": {
        "id": "xjoG6wR83tHX"
      }
    },
    {
      "cell_type": "code",
      "source": [
        "#Q2 CODE\n",
        "spam = [2,4,6,8,10]\n",
        "spam[2] = 'hello'\n",
        "print(spam)  #'hello' is assigned as third value"
      ],
      "metadata": {
        "id": "Dv8_ckyu44Og",
        "colab": {
          "base_uri": "https://localhost:8080/"
        },
        "outputId": "6454e548-1e58-4e01-b6a3-a443090a96cf"
      },
      "execution_count": 4,
      "outputs": [
        {
          "output_type": "stream",
          "name": "stdout",
          "text": [
            "[2, 4, 'hello', 8, 10]\n"
          ]
        }
      ]
    },
    {
      "cell_type": "markdown",
      "source": [
        "####**Let&#39;s pretend the spam includes the list ['a', 'b', 'c', 'd'] for the next three queries.**"
      ],
      "metadata": {
        "id": "7c64Zyc756eB"
      }
    },
    {
      "cell_type": "markdown",
      "source": [
        "**3. What is the value of** `spam[int(int('3'*2)//11)]`?\n",
        "\n",
        "**Ans**: `int('3'*2)//11` gives 3 so `spam[3]` is `d` \n",
        "so the answer is **d**"
      ],
      "metadata": {
        "id": "Co7MXp1N6Bs5"
      }
    },
    {
      "cell_type": "code",
      "source": [
        "spam = ['a','b','c','d']\n",
        "print('Answer is' , spam[int(int('3'*2)//11)])"
      ],
      "metadata": {
        "colab": {
          "base_uri": "https://localhost:8080/"
        },
        "id": "scoHCrf36afA",
        "outputId": "46117a6f-bd81-4f3f-ef20-3845a1e17edb"
      },
      "execution_count": 11,
      "outputs": [
        {
          "output_type": "stream",
          "name": "stdout",
          "text": [
            "Answer is d\n"
          ]
        }
      ]
    },
    {
      "cell_type": "markdown",
      "source": [
        "**4. What is the value of `spam[-1]`?**\n",
        "\n",
        "**Ans**: The negative indexing for list starts from right side. it returns the value `d`"
      ],
      "metadata": {
        "id": "OCsAmXwA742Z"
      }
    },
    {
      "cell_type": "code",
      "source": [
        "spam = ['a','b','c','d']\n",
        "print('Answer is', spam[-1])"
      ],
      "metadata": {
        "colab": {
          "base_uri": "https://localhost:8080/"
        },
        "id": "4csPGxhp8uPB",
        "outputId": "575a7b18-2f6b-491b-9816-7c37c3514c18"
      },
      "execution_count": 12,
      "outputs": [
        {
          "output_type": "stream",
          "name": "stdout",
          "text": [
            "Answer is d\n"
          ]
        }
      ]
    },
    {
      "cell_type": "markdown",
      "source": [
        "**5. What is the value of `spam[:2]`?**\n",
        "\n",
        "**Ans**: This returns the value `['a','b']` from list with index 0 to 1, it excludes index 2."
      ],
      "metadata": {
        "id": "pc9h8PTS8hAh"
      }
    },
    {
      "cell_type": "code",
      "source": [
        "spam = ['a','b','c','d']\n",
        "print('Answer is',  spam[:2])"
      ],
      "metadata": {
        "colab": {
          "base_uri": "https://localhost:8080/"
        },
        "id": "QFOERrvT9HgB",
        "outputId": "c56c5b57-cb45-429f-b5e3-cb3b09a149e9"
      },
      "execution_count": 13,
      "outputs": [
        {
          "output_type": "stream",
          "name": "stdout",
          "text": [
            "Answer is ['a', 'b']\n"
          ]
        }
      ]
    },
    {
      "cell_type": "markdown",
      "source": [
        "####**Let's pretend bacon has the list [3.14, 'cat', 11, 'cat', True] for the next three question**"
      ],
      "metadata": {
        "id": "WLHkGyTw9mK5"
      }
    },
    {
      "cell_type": "markdown",
      "source": [
        "**6. What is the value of `bacon.index('cat')`?**\n",
        "\n",
        "**Ans**: This returns the value `1`, the `index()` method returns minimum index at which the specified sub-string occurs in iterable."
      ],
      "metadata": {
        "id": "6qhwhaNh-Bo5"
      }
    },
    {
      "cell_type": "code",
      "source": [
        "bacon = [3.14, 'cat', 11, 'cat', True]\n",
        "print('Answer is', bacon.index('cat'))"
      ],
      "metadata": {
        "colab": {
          "base_uri": "https://localhost:8080/"
        },
        "id": "sNP6kBkt-sC5",
        "outputId": "9fb41f6b-cbdd-4b19-8e4f-3d9adb986af5"
      },
      "execution_count": 14,
      "outputs": [
        {
          "output_type": "stream",
          "name": "stdout",
          "text": [
            "Answer is 1\n"
          ]
        }
      ]
    },
    {
      "cell_type": "markdown",
      "source": [
        "**7. How does `bacon.append(99)` change the look of the list value in bacon?**\n",
        "\n",
        "**Ans**: append() method adds element to the end of the list.\n",
        "`bacon = [3.14, 'cat', 11, 'cat', True, '99']`"
      ],
      "metadata": {
        "id": "g6Sonbm__A0N"
      }
    },
    {
      "cell_type": "code",
      "source": [
        "bacon = [3.14, 'cat', 11, 'cat', True]\n",
        "bacon.append('99')\n",
        "print('List after append: ', bacon )"
      ],
      "metadata": {
        "colab": {
          "base_uri": "https://localhost:8080/"
        },
        "id": "nKLswtLo_Gcu",
        "outputId": "668500b6-d4a2-4b63-912b-bf8daa5d2049"
      },
      "execution_count": 17,
      "outputs": [
        {
          "output_type": "stream",
          "name": "stdout",
          "text": [
            "List after append:  [3.14, 'cat', 11, 'cat', True, '99']\n"
          ]
        }
      ]
    },
    {
      "cell_type": "markdown",
      "source": [
        "**8. How does `bacon.remove('cat')` change the look of the list in bacon?**\n",
        "\n",
        "**Ans**: remove() method removes the first occurrence input 'cat' if it is present in the list.\n",
        "`bacon = [3.14, 11, 'cat', True]`"
      ],
      "metadata": {
        "id": "3-ooWcCPAFtC"
      }
    },
    {
      "cell_type": "code",
      "source": [
        "bacon = [3.14, 'cat', 11, 'cat', True]\n",
        "bacon.remove('cat')\n",
        "print('List after remove: ', bacon )"
      ],
      "metadata": {
        "colab": {
          "base_uri": "https://localhost:8080/"
        },
        "id": "k7MAhFsSA-Ux",
        "outputId": "1a4a1979-2bd5-4610-f8d1-fd11cac5858e"
      },
      "execution_count": 18,
      "outputs": [
        {
          "output_type": "stream",
          "name": "stdout",
          "text": [
            "List after remove:  [3.14, 11, 'cat', True]\n"
          ]
        }
      ]
    },
    {
      "cell_type": "markdown",
      "source": [
        "**9. What are the list concatenation and list replication operators?**\n",
        "\n",
        "**Ans**: The operator used for list concatenation is `+` and the operator for list replication is `*` "
      ],
      "metadata": {
        "id": "yzQlziWfBP1q"
      }
    },
    {
      "cell_type": "code",
      "source": [
        "list_1 = [1,2,3,4,5]\n",
        "list_2 = [2,4,6,8,10]\n",
        "print('=list concatenation ==',list_1 + list_2)\n",
        "print('=list replication ==', list_1*2)"
      ],
      "metadata": {
        "colab": {
          "base_uri": "https://localhost:8080/"
        },
        "id": "nOjt1fPDCztD",
        "outputId": "addb723d-a594-460f-eea2-c12c9c234af6"
      },
      "execution_count": 32,
      "outputs": [
        {
          "output_type": "stream",
          "name": "stdout",
          "text": [
            "=list concatenation == [1, 2, 3, 4, 5, 2, 4, 6, 8, 10]\n",
            "=list replication == [1, 2, 3, 4, 5, 1, 2, 3, 4, 5]\n"
          ]
        }
      ]
    },
    {
      "cell_type": "markdown",
      "source": [
        "**10. What is difference between the list methods append() and insert()?**\n",
        "\n",
        "**Ans**: append() method adds the input element to the end of the list where as the insert() method allows us to add element to the specified index."
      ],
      "metadata": {
        "id": "smBlhCwYCKkl"
      }
    },
    {
      "cell_type": "code",
      "source": [
        "list_1 = [1,2,3,4,5]\n",
        "print('== append ==')\n",
        "list_1.append('hi')\n",
        "print(list_1)\n",
        "list1 = [1,2,3,4,5]\n",
        "print('== insert ==')\n",
        "list1.insert(2,'bye')\n",
        "print(list1)"
      ],
      "metadata": {
        "colab": {
          "base_uri": "https://localhost:8080/"
        },
        "id": "tLxtBJEiEN7j",
        "outputId": "3bde03a8-34f5-4be9-8c1b-a0425d2b541f"
      },
      "execution_count": 35,
      "outputs": [
        {
          "output_type": "stream",
          "name": "stdout",
          "text": [
            "== append ==\n",
            "[1, 2, 3, 4, 5, 'hi']\n",
            "== insert ==\n",
            "[1, 2, 'bye', 3, 4, 5]\n"
          ]
        }
      ]
    },
    {
      "cell_type": "markdown",
      "source": [
        "**11. What are the two methods for removing items from a list?**\n",
        "\n",
        "**Ans**: `remove()` and `pop()` are two methods for removing items from a list.\n",
        "remove() deletes items based on the `input` element. where as pop removes an element by the `index` value."
      ],
      "metadata": {
        "id": "qugS6NZbFPvD"
      }
    },
    {
      "cell_type": "code",
      "source": [
        "list_1 = [1,2,3,4,5]\n",
        "print('== remove ==')\n",
        "list_1.remove(4) #removes element 4 from the list\n",
        "print(list_1)\n",
        "print('== pop ==')\n",
        "list_1.pop(1) #removes element in index 1\n",
        "print(list_1)"
      ],
      "metadata": {
        "colab": {
          "base_uri": "https://localhost:8080/"
        },
        "id": "cKFuLzqSF6ZT",
        "outputId": "33b57663-071f-44ec-c9df-7e79948ac581"
      },
      "execution_count": 38,
      "outputs": [
        {
          "output_type": "stream",
          "name": "stdout",
          "text": [
            "== remove ==\n",
            "[1, 2, 3, 5]\n",
            "== pop ==\n",
            "[1, 3, 5]\n"
          ]
        }
      ]
    },
    {
      "cell_type": "markdown",
      "source": [
        "**12. Describe how list values and string values are identical.**\n",
        "\n",
        "**Ans**: Both list and string can be concatenated and replicated. both are iterable can be used in loops."
      ],
      "metadata": {
        "id": "mB4bu7MxGu2U"
      }
    },
    {
      "cell_type": "markdown",
      "source": [
        "**13. What's the difference between tuples and lists?**\n",
        "\n",
        "**Ans**: Lists are `mutable` objects, tuples are `immutable` objects. tuples are enclosed in `( )` whereas lists are enclosed in `[ ]` ."
      ],
      "metadata": {
        "id": "atX0tBa4UcC4"
      }
    },
    {
      "cell_type": "markdown",
      "source": [
        "**14. How do you type a tuple value that only contains the integer 42?**\n",
        "\n",
        "**Ans**: If we create a tuple with only one value, `comma` should be used as the end. otherwise it is taken as integer by python."
      ],
      "metadata": {
        "id": "eYACBAxQU78L"
      }
    },
    {
      "cell_type": "code",
      "source": [
        "t = (42,)\n",
        "type(t)"
      ],
      "metadata": {
        "colab": {
          "base_uri": "https://localhost:8080/"
        },
        "id": "eijarMqWVX8g",
        "outputId": "b1529a7e-ba22-4b35-981a-33716a50313b"
      },
      "execution_count": 39,
      "outputs": [
        {
          "output_type": "execute_result",
          "data": {
            "text/plain": [
              "tuple"
            ]
          },
          "metadata": {},
          "execution_count": 39
        }
      ]
    },
    {
      "cell_type": "markdown",
      "source": [
        "**15. How do you get a list value's tuple form? How do you get a tuple value's list form?**\n",
        "\n",
        "**Ans**: to convert a tuple values to list form list(tuples), to convert a list values tuple form ([list])."
      ],
      "metadata": {
        "id": "Dw9rxqXbVgzO"
      }
    },
    {
      "cell_type": "code",
      "source": [
        "a = (1,2,3)\n",
        "b = [4,5,6]\n",
        "print(a , 'to', list(a))\n",
        "print(b, 'to', tuple(b))"
      ],
      "metadata": {
        "colab": {
          "base_uri": "https://localhost:8080/"
        },
        "id": "qxqWpA-XWHTA",
        "outputId": "714a08cb-96cb-483f-8f61-02513cc2cba6"
      },
      "execution_count": 48,
      "outputs": [
        {
          "output_type": "stream",
          "name": "stdout",
          "text": [
            "(1, 2, 3) to [1, 2, 3]\n",
            "[4, 5, 6] to (4, 5, 6)\n"
          ]
        }
      ]
    },
    {
      "cell_type": "markdown",
      "source": [
        "**16. Variables that \"contain\" list values are not necessarily lists themselves. Instead, what do they contain?**\n",
        "\n",
        "**Ans**: Variables will contain references to list values "
      ],
      "metadata": {
        "id": "Cze9Ta76XbGR"
      }
    },
    {
      "cell_type": "markdown",
      "source": [
        "**17. How do you distinguish between `copy.copy()` and `copy.deepcopy()`?**\n",
        "\n",
        "**Ans**: `copy.copy()` is known as shallow copy of an object it won’t duplicate object, `copy.deepcopy()` is known as deep copy it will create a duplicate of the object after any changes."
      ],
      "metadata": {
        "id": "BOYCFFgOYFDI"
      }
    },
    {
      "cell_type": "code",
      "source": [
        "import copy\n",
        "l1 = [1, 2, [3,4], 5]\n",
        "l2 = copy.deepcopy(l1)\n",
        "l2[2] = 6\n",
        "print('after deepcopy', l1 )"
      ],
      "metadata": {
        "colab": {
          "base_uri": "https://localhost:8080/"
        },
        "id": "aiAydk_hYwnB",
        "outputId": "12a73ec4-106f-48b0-ba9f-063bb84a8e3f"
      },
      "execution_count": 65,
      "outputs": [
        {
          "output_type": "stream",
          "name": "stdout",
          "text": [
            "after deepcopy [1, 2, [3, 4], 5]\n"
          ]
        }
      ]
    },
    {
      "cell_type": "code",
      "source": [
        "l1 = [1, 2, [3,4], 5]\n",
        "l2 = copy.copy(l1)\n",
        "l2[2][0] = 6\n",
        "print('after shallow copy', l1)"
      ],
      "metadata": {
        "colab": {
          "base_uri": "https://localhost:8080/"
        },
        "id": "Qf1tHF2WdELa",
        "outputId": "8ad6bbcd-c02f-4336-be3c-361901f7d3bb"
      },
      "execution_count": 66,
      "outputs": [
        {
          "output_type": "stream",
          "name": "stdout",
          "text": [
            "after shallow copy [1, 2, [6, 4], 5]\n"
          ]
        }
      ]
    }
  ]
}