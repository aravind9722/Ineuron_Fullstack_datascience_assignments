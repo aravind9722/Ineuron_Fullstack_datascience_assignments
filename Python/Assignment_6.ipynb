{
  "nbformat": 4,
  "nbformat_minor": 0,
  "metadata": {
    "colab": {
      "name": "Assignment_6.ipynb",
      "provenance": [],
      "collapsed_sections": []
    },
    "kernelspec": {
      "name": "python3",
      "display_name": "Python 3"
    },
    "language_info": {
      "name": "python"
    }
  },
  "cells": [
    {
      "cell_type": "markdown",
      "source": [
        "**1. What are escape characters, and how do you use them?**\n",
        "\n",
        "**Ans**: Escape characters used to put nonprintable characters in character and strings, it is usually a backslash `(\\)` symbol followed by one of the escape sequence characters. like` \\' and \\n `"
      ],
      "metadata": {
        "id": "gmNWjNNPCGnE"
      }
    },
    {
      "cell_type": "markdown",
      "source": [
        "**2. What do the escape characters n and t stand for?**\n",
        "\n",
        "**Ans**: `\\n` stands for new line and `\\t` stands for new tab."
      ],
      "metadata": {
        "id": "CToMgiecD_Ti"
      }
    },
    {
      "cell_type": "markdown",
      "source": [
        "**3. What is the way to include backslash characters in a string?**\n",
        "\n",
        "**Ans**: To include a backlash charater in a string we use `\\\\`"
      ],
      "metadata": {
        "id": "FwtKuVYMETKy"
      }
    },
    {
      "cell_type": "markdown",
      "source": [
        "**4.The string \"Howl's Moving Castle\" is a correct value. Why isn't the single quote character in the word Howl's not escaped a problem ?**\n",
        "\n",
        "**Ans**: It has not escaped a problem because its given inside `double quotes`,  if we give the string inside a single quote we should use escape charater `'Howl\\'s Moving Castle'`."
      ],
      "metadata": {
        "id": "7bs_2tikEkAz"
      }
    },
    {
      "cell_type": "markdown",
      "source": [
        "**5.How do you write a string of newlines if you don't want to use the n character?**\n",
        "\n",
        "**Ans**: We can use `Multiline string` to write string of newlines, A multiline string begins and ends with either three single quotes or three double quotes. "
      ],
      "metadata": {
        "id": "-46JR69fFs-y"
      }
    },
    {
      "cell_type": "code",
      "source": [
        "string = '''Hi, Data \n",
        "where do you live'''\n",
        "print(string)"
      ],
      "metadata": {
        "colab": {
          "base_uri": "https://localhost:8080/"
        },
        "id": "aJCmRsFzGOyS",
        "outputId": "ab000ac5-a3ee-4dcf-cc1f-0478a70d708b"
      },
      "execution_count": 4,
      "outputs": [
        {
          "output_type": "stream",
          "name": "stdout",
          "text": [
            "Hi, Data \n",
            "where do you live\n"
          ]
        }
      ]
    },
    {
      "cell_type": "markdown",
      "source": [
        "**6.What are the values of the given expressions ?**\n",
        "\n",
        "`'Hello, world!'[1]`\n",
        "\n",
        "`'Hello, world!'[0:5]`\n",
        "\n",
        "`'Hello, world!'[:5]`\n",
        "\n",
        "`'Hello, world!'[3:]`\n",
        "\n",
        "\n",
        "**Ans**: The values of given expressions  \n",
        "\n",
        "`'Hello, world!'[1]` is `e`\n",
        "\n",
        "`'Hello, world!'[0:5]` is `Hello`\n",
        "\n",
        "`'Hello, world!'[:5]` is `Hello`\n",
        "\n",
        "`'Hello, world!'[3:]` is `lo, world`"
      ],
      "metadata": {
        "id": "YHE8B-wvGYCJ"
      }
    },
    {
      "cell_type": "markdown",
      "source": [
        "**7.What are the values of the following expressions ?**\n",
        "\n",
        "`'Hello'.upper()`\n",
        "\n",
        "`'Hello'.upper().isupper()`\n",
        "\n",
        "`'Hello'.upper().lower()`\n",
        "\n",
        "**Ans**: The values of the expressions are:\n",
        "\n",
        "`'Hello'.upper()` = `HELLO`\n",
        "\n",
        "`'Hello'.upper().isupper()` = `True`\n",
        "\n",
        "`'Hello'.upper().lower()` = `hello`"
      ],
      "metadata": {
        "id": "DF5k2HBoIrkq"
      }
    },
    {
      "cell_type": "markdown",
      "source": [
        "**8.What are the values of the following expressions ?**\n",
        "\n",
        "`'Remember, remember, the fifith of July.'.split()`\n",
        "\n",
        "`'-'.join('There can only one'.split())`\n",
        "\n",
        "**Ans**: 1) ['Remember,', 'remember,', 'the', 'fifith', 'of', 'July.']\n",
        "\n",
        "2) There-can-only-one"
      ],
      "metadata": {
        "id": "EsSmA7uxJKSS"
      }
    },
    {
      "cell_type": "code",
      "source": [
        "'Remember, remember, the fifith of July.'.split()"
      ],
      "metadata": {
        "colab": {
          "base_uri": "https://localhost:8080/"
        },
        "id": "rCmFqMOoJkCq",
        "outputId": "9b6ecfd7-997c-44cf-9339-21fde8d5e3ab"
      },
      "execution_count": 9,
      "outputs": [
        {
          "output_type": "execute_result",
          "data": {
            "text/plain": [
              "['Remember,', 'remember,', 'the', 'fifith', 'of', 'July.']"
            ]
          },
          "metadata": {},
          "execution_count": 9
        }
      ]
    },
    {
      "cell_type": "code",
      "source": [
        "'-'.join('There can only one'.split())"
      ],
      "metadata": {
        "colab": {
          "base_uri": "https://localhost:8080/",
          "height": 35
        },
        "id": "YOhJXgr2J0Db",
        "outputId": "cecdc973-3606-4033-e245-3c69ea42a512"
      },
      "execution_count": 11,
      "outputs": [
        {
          "output_type": "execute_result",
          "data": {
            "text/plain": [
              "'There-can-only-one'"
            ],
            "application/vnd.google.colaboratory.intrinsic+json": {
              "type": "string"
            }
          },
          "metadata": {},
          "execution_count": 11
        }
      ]
    },
    {
      "cell_type": "markdown",
      "source": [
        "**9.What are the methods for right-justifying, left-justifying and centering a string ?**\n",
        "\n",
        "\n",
        "**Ans**: the methods are `rjust()` for r-justifying,\n",
        "\n",
        "`ljust()` for left-justifying,\n",
        "\n",
        "`center()` for centering a string."
      ],
      "metadata": {
        "id": "GDeYbBywJVT6"
      }
    },
    {
      "cell_type": "markdown",
      "source": [
        "**10.What is the best way to remove whitespace characters from the start or end?**\n",
        "\n",
        "**Ans**: `strip()` is the function to remove whitespaces from start to end, alternative if  we wanted to remove from right or left side use `lstrip()` or `rstrip()`"
      ],
      "metadata": {
        "id": "OokFZH4uK_t5"
      }
    }
  ]
}