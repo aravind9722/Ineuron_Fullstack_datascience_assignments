{
  "nbformat": 4,
  "nbformat_minor": 0,
  "metadata": {
    "colab": {
      "name": "Assignment_7.ipynb",
      "provenance": [],
      "collapsed_sections": []
    },
    "kernelspec": {
      "name": "python3",
      "display_name": "Python 3"
    },
    "language_info": {
      "name": "python"
    }
  },
  "cells": [
    {
      "cell_type": "markdown",
      "source": [
        "**1. What is the name of the feature responsible for generating Regex objects?**\n",
        "\n",
        "**Ans**: The `re.compile()` function returns Regex objects."
      ],
      "metadata": {
        "id": "_49_bYfCMGri"
      }
    },
    {
      "cell_type": "code",
      "source": [
        "import re\n",
        "x = re.compile(r\"\\d{3}\")\n",
        "print(type(x))\n",
        "print(x)"
      ],
      "metadata": {
        "colab": {
          "base_uri": "https://localhost:8080/"
        },
        "id": "ohaHixO1OQHJ",
        "outputId": "87414dbf-9995-43e0-a0d2-67299fb6896b"
      },
      "execution_count": 5,
      "outputs": [
        {
          "output_type": "stream",
          "name": "stdout",
          "text": [
            "<class 're.Pattern'>\n",
            "re.compile('\\\\d{3}')\n"
          ]
        }
      ]
    },
    {
      "cell_type": "markdown",
      "source": [
        "**2. Why do raw strings often appear in Regex objects?**\n",
        "\n",
        "**Ans**:Raw strings are used so that backslashes do not have to be escaped."
      ],
      "metadata": {
        "id": "EWP0UeMFOPs5"
      }
    },
    {
      "cell_type": "markdown",
      "source": [
        "**3. What is the return value of the search() method?**\n",
        "\n",
        "**Ans**: The `search()` method returns Match objects. `re.search()`"
      ],
      "metadata": {
        "id": "fewlVRHaOMZa"
      }
    },
    {
      "cell_type": "code",
      "source": [
        "import re\n",
        "target_string = \"Hi, How are you lorenzo\"\n",
        "re.search(\"o\", target_string)"
      ],
      "metadata": {
        "colab": {
          "base_uri": "https://localhost:8080/"
        },
        "id": "N9SXL3u4QBpJ",
        "outputId": "037955d8-70c1-410f-8fd5-9e45e6c50a64"
      },
      "execution_count": 7,
      "outputs": [
        {
          "output_type": "execute_result",
          "data": {
            "text/plain": [
              "<re.Match object; span=(5, 6), match='o'>"
            ]
          },
          "metadata": {},
          "execution_count": 7
        }
      ]
    },
    {
      "cell_type": "markdown",
      "source": [
        "**4. From a Match item, how do you get the actual strings that match the pattern?**\n",
        "\n",
        "**Ans**: The `group()` method returns strings of the matched text."
      ],
      "metadata": {
        "id": "atNAJxolQjEx"
      }
    },
    {
      "cell_type": "code",
      "source": [
        "import re\n",
        "string = re.search('you', \"Hi, How are you lorenzo\")\n",
        "print(string.group())"
      ],
      "metadata": {
        "colab": {
          "base_uri": "https://localhost:8080/"
        },
        "id": "ymh5cOtHQxZx",
        "outputId": "d8250b71-3369-4644-a278-e8ba37080001"
      },
      "execution_count": 10,
      "outputs": [
        {
          "output_type": "stream",
          "name": "stdout",
          "text": [
            "you\n"
          ]
        }
      ]
    },
    {
      "cell_type": "markdown",
      "source": [
        "**5. In the regex which created from the r'(\\d\\d\\d)-(\\d\\d\\d-\\d\\d\\d\\d)', what does group zero cover? Group 2? Group 1?**\n",
        "\n",
        "**Ans**: Group zero is the entire match, group 1 covers the first set of parentheses `(\\d\\d\\d)`, and group 2 covers the second set of parentheses `(\\d\\d\\d-\\d\\d\\d\\d)`."
      ],
      "metadata": {
        "id": "vIMz2FrKRSfx"
      }
    },
    {
      "cell_type": "code",
      "source": [
        "import re\n",
        "regex = re.compile(r'(\\d\\d\\d)-(\\d\\d\\d-\\d\\d\\d\\d)')\n",
        "z = regex.search('123-456-7890.')\n",
        "print('group zero is :',z.group()) \n",
        "print('group 1 is :',z.group(1))\n",
        "print('group 2 is :',z.group(2)) "
      ],
      "metadata": {
        "colab": {
          "base_uri": "https://localhost:8080/"
        },
        "id": "rmN1ka4vR92h",
        "outputId": "d65fe6e4-e14a-4f85-fe70-8fac8ecc7efb"
      },
      "execution_count": 17,
      "outputs": [
        {
          "output_type": "stream",
          "name": "stdout",
          "text": [
            "group zero is : 123-456-7890\n",
            "group 1 is : 123\n",
            "group 2 is : 456-7890\n"
          ]
        }
      ]
    },
    {
      "cell_type": "markdown",
      "source": [
        "**6. In standard expression syntax, parentheses and intervals have distinct meanings. How can you tell a regex that you want it to fit real parentheses and periods?**\n",
        "\n",
        "**Ans**: Periods and parentheses can be escaped with a backslash: `\\.`, `\\(`, and `\\)`."
      ],
      "metadata": {
        "id": "dKtoLBFBSlyx"
      }
    },
    {
      "cell_type": "markdown",
      "source": [
        "**7. The findall() method returns a string list or a list of string tuples. What causes it to return one of the two options?**\n",
        "\n",
        "**Ans**: If the regex has `no groups`, a list of strings is returned. If the regex has `groups`, a list of tuples of strings is returned."
      ],
      "metadata": {
        "id": "eFkH59XqS-0B"
      }
    },
    {
      "cell_type": "code",
      "source": [
        "import re\n",
        "regex = re.compile(r'(\\d\\d\\d)-(\\d\\d\\d-\\d\\d\\d\\d)')\n",
        "z = regex.findall('123-456-7890.')\n",
        "print('this is with groups', z) \n",
        "\n",
        "regex1 = re.compile(r'\\d{4}')\n",
        "z1 = regex1.findall('1234')\n",
        "print(\"this is without groups\", z1)"
      ],
      "metadata": {
        "colab": {
          "base_uri": "https://localhost:8080/"
        },
        "id": "e2irv72vTWpQ",
        "outputId": "05ab06f5-6abc-49ee-a9ec-a1c10d45137f"
      },
      "execution_count": 25,
      "outputs": [
        {
          "output_type": "stream",
          "name": "stdout",
          "text": [
            "this is with groups [('123', '456-7890')]\n",
            "this is without groups ['1234']\n"
          ]
        }
      ]
    },
    {
      "cell_type": "markdown",
      "source": [
        "**8. In standard expressions, what does the | character mean?**\n",
        "\n",
        "**Ans**: The | character signifies matching \"`either, or`\" between two groups."
      ],
      "metadata": {
        "id": "DVNDJP0FUjWA"
      }
    },
    {
      "cell_type": "markdown",
      "source": [
        "**9. In regular expressions, what does the ? character stand for?**\n",
        "\n",
        "**Ans**: The `?` charater makes the preceding token in the regular expression optional. here in example u is optional, colou?r matches both colour and color. "
      ],
      "metadata": {
        "id": "-t40jjpAUu2B"
      }
    },
    {
      "cell_type": "code",
      "source": [
        "import re\n",
        "a1 = re.search(\"colou?r\",\"color is red\")\n",
        "print(a1)\n",
        "a2 = re.search(\"colou?r\",\"colour is red\")\n",
        "print(a2)"
      ],
      "metadata": {
        "colab": {
          "base_uri": "https://localhost:8080/"
        },
        "id": "O1IVaYmLVuHR",
        "outputId": "c5a00d06-3c20-4ce9-ec3c-4dee5a7edddb"
      },
      "execution_count": 29,
      "outputs": [
        {
          "output_type": "stream",
          "name": "stdout",
          "text": [
            "<re.Match object; span=(0, 5), match='color'>\n",
            "<re.Match object; span=(0, 6), match='colour'>\n"
          ]
        }
      ]
    },
    {
      "cell_type": "markdown",
      "source": [
        "**10. In regular expressions, what is the difference between the + and * characters?**\n",
        "\n",
        "**Ans**: `*` matches the preceding expression zero or more times where as\n",
        " \n",
        "`+` matches the preceding expression one or more times"
      ],
      "metadata": {
        "id": "68dJTe0tWzJJ"
      }
    },
    {
      "cell_type": "code",
      "source": [
        "import re\n",
        "a1 = re.search(\"colou*r\",\"color is red\")\n",
        "print(a1) \n",
        "a2 = re.search(\"colou+r\",\"color is red\")\n",
        "print(a2)"
      ],
      "metadata": {
        "colab": {
          "base_uri": "https://localhost:8080/"
        },
        "id": "V6bkN4wMXxUA",
        "outputId": "70c6eaaf-87d2-4889-a853-e21869a0964d"
      },
      "execution_count": 30,
      "outputs": [
        {
          "output_type": "stream",
          "name": "stdout",
          "text": [
            "<re.Match object; span=(0, 5), match='color'>\n",
            "None\n"
          ]
        }
      ]
    },
    {
      "cell_type": "markdown",
      "source": [
        "**11. What is the difference between {4} and {4,5} in regular expression?**\n",
        "\n",
        "**Ans**: The `{4}` matches exactly three instances of the preceding group. The `{4,5}` matches between four and five instances."
      ],
      "metadata": {
        "id": "G4AywL0IYDCX"
      }
    },
    {
      "cell_type": "markdown",
      "source": [
        "**12. What do you mean by the \\d, \\w, and \\s shorthand character classes signify in regular expressions?**\n",
        "\n",
        "**Ans**: The \\d matches single digit charater, \n",
        "\n",
        "\\w matches word character\n",
        "\n",
        "\\s matches space character."
      ],
      "metadata": {
        "id": "aeKneuEHYW1A"
      }
    },
    {
      "cell_type": "markdown",
      "source": [
        "**13. What do means by \\D, \\W, and \\S shorthand character classes signify in regular expressions?**\n",
        "\n",
        "**Ans**: The \\D matches non-digit charater, \n",
        "\n",
        "\\W matches non-word character\n",
        "\n",
        "\\D matches non-space character."
      ],
      "metadata": {
        "id": "S3K0wD7mXnQA"
      }
    },
    {
      "cell_type": "markdown",
      "source": [
        "**14. What is the difference between `.*?` and `.*`?** \n",
        "\n",
        "**Ans**: `.*` is a Greedy mode, which returns as many matches possible. Whereas `.*?` is a non greedy mode which returns few possible matches."
      ],
      "metadata": {
        "id": "GSSTROaRZbwR"
      }
    },
    {
      "cell_type": "markdown",
      "source": [
        "**15. What is the syntax for matching both numbers and lowercase letters with a character class?**\n",
        "\n",
        "**Ans**: the syntax is `Either [0-9a-z] or [a-z0-9]`"
      ],
      "metadata": {
        "id": "6tJhXIw-auXo"
      }
    },
    {
      "cell_type": "markdown",
      "source": [
        "**16. What is the procedure for making a normal expression in regax case insensitive?**\n",
        "\n",
        "**Ans**: Passing `re.I` or `re.IGNORECASE `as the second argument to re.compile() will make the matching case insensitive."
      ],
      "metadata": {
        "id": "iwKNb__Ya_Lg"
      }
    },
    {
      "cell_type": "markdown",
      "source": [
        "**17. What does the . character normally match? What does it match if re.DOTALL is passed as 2nd argument in re.compile()?**\n",
        "\n",
        "**Ans**: The` . `character normally matches any character except the newline character. If `re.DOTALL` is passed as the second argument to `re.compile()`, then the dot will also match newline characters."
      ],
      "metadata": {
        "id": "9aP-UC_NbT5Y"
      }
    },
    {
      "cell_type": "markdown",
      "source": [
        "**18. If numReg = re.compile(r'\\d+'), what will numRegex.sub('X', '11 drummers, 10 pipers, five rings, 4 hen') return?**\n",
        "\n",
        "**Ans**: `X drummers, X pipers, five rings, X hen` "
      ],
      "metadata": {
        "id": "QXHDHuMmb8Qw"
      }
    },
    {
      "cell_type": "code",
      "source": [
        "numReg = re.compile(r'\\d+')\n",
        "numReg.sub('X', '11 drummers, 10 pipers, five rings, 4 hen')"
      ],
      "metadata": {
        "colab": {
          "base_uri": "https://localhost:8080/",
          "height": 35
        },
        "id": "k_aXlaCecFIp",
        "outputId": "5a611ea6-767d-44ff-c7e6-ba8293c77c9b"
      },
      "execution_count": 33,
      "outputs": [
        {
          "output_type": "execute_result",
          "data": {
            "text/plain": [
              "'X drummers, X pipers, five rings, X hen'"
            ],
            "application/vnd.google.colaboratory.intrinsic+json": {
              "type": "string"
            }
          },
          "metadata": {},
          "execution_count": 33
        }
      ]
    },
    {
      "cell_type": "markdown",
      "source": [
        "**19. What does passing re.VERBOSE as the 2nd argument to re.compile() allow to do?**\n",
        "\n",
        "**Ans**: The `re.VERBOSE `argument allows you to add whitespace and comments to the string passed to `re.compile()`."
      ],
      "metadata": {
        "id": "L5y7JytIcWig"
      }
    },
    {
      "cell_type": "code",
      "source": [
        "import re\n",
        "regex = re.compile(r'''(\\d\\d\\d) #Group1\n",
        "     -(\\d\\d\\d-\\d\\d\\d\\d) #Group2''', re.VERBOSE) #allows to use newline or whitespaces and comments\n",
        "print('If we use re.VERBOSE : ', regex) "
      ],
      "metadata": {
        "colab": {
          "base_uri": "https://localhost:8080/"
        },
        "id": "cYhXzugXcoEw",
        "outputId": "ead5d1c1-3927-42e7-aa83-a930a0525a81"
      },
      "execution_count": 36,
      "outputs": [
        {
          "output_type": "stream",
          "name": "stdout",
          "text": [
            "If we use re.VERBOSE :  re.compile('(\\\\d\\\\d\\\\d) #Group1\\n     -(\\\\d\\\\d\\\\d-\\\\d\\\\d\\\\d\\\\d) #Group2', re.VERBOSE)\n"
          ]
        }
      ]
    },
    {
      "cell_type": "markdown",
      "source": [
        "**20. How would you write a regex that match a number with comma for every three digits? It must match the given following:**\n",
        "\n",
        "\n",
        "'42','1,234', '6,368,745' \n",
        "\n",
        "**but not the following:** \n",
        "\n",
        "'12,34,567' (which has only two digits between the commas) '1234' (which lacks commas)\n",
        "\n",
        "**Ans**: `re.compile(r'^\\d{1,3}(,\\d{3})*$')` can create this regex"
      ],
      "metadata": {
        "id": "mAlL9Lr-cge_"
      }
    },
    {
      "cell_type": "code",
      "source": [
        "regexs = re.compile(r'^\\d{1,3}(,\\d{3})*$')\n",
        "for i in ['42','1,234','6,368,745','12,34,567']:\n",
        "  print(i, regexs.search(i))"
      ],
      "metadata": {
        "colab": {
          "base_uri": "https://localhost:8080/"
        },
        "id": "W7HGP8Nsg08A",
        "outputId": "911a9202-d039-4e38-9ef1-909834fc4174"
      },
      "execution_count": 42,
      "outputs": [
        {
          "output_type": "stream",
          "name": "stdout",
          "text": [
            "42 <re.Match object; span=(0, 2), match='42'>\n",
            "1,234 <re.Match object; span=(0, 5), match='1,234'>\n",
            "6,368,745 <re.Match object; span=(0, 9), match='6,368,745'>\n",
            "12,34,567 None\n"
          ]
        }
      ]
    },
    {
      "cell_type": "markdown",
      "source": [
        "**21. How would you write a regex that matches the full name of someone whose last name is Watanabe? You can assume that the first name that comes before it will always be one word that begins with a capital letter. The regex must match the following:**\n",
        "\n",
        "'Haruto Watanabe'__\n",
        "'Alice Watanabe'__\n",
        "'RoboCop Watanabe'\n",
        "\n",
        "**but not the following:**\n",
        "\n",
        "'haruto Watanabe' (where the first name is not capitalized)\n",
        "\n",
        "'Mr. Watanabe' (where the preceding word has a nonletter character)\n",
        "\n",
        "'Watanabe' (which has no first name)\n",
        "\n",
        "'Haruto watanabe' (where Watanabe is not capitalized)\n",
        "\n",
        "**Ans**: `re.compile(r'[A-Z][a-z]*\\sWatanabe')` can create this regex\n",
        "This creates a pattern where any word should start in uppercase letter is can be followed by lower case letter is matched."
      ],
      "metadata": {
        "id": "90WJBN1cd0Xg"
      }
    },
    {
      "cell_type": "code",
      "source": [
        "result = re.compile(r'[A-Z]{1}[a-z]*\\sWatanabe')\n",
        "for i in ['Haruto Watanabe','Alice Watanabe','RoboCop Watanabe','haruto Watanabe','Mr. Watanabe','Watanabe','Haruto watanabe']:\n",
        "  print(i, result.search(i))"
      ],
      "metadata": {
        "colab": {
          "base_uri": "https://localhost:8080/"
        },
        "id": "EMis0P0WeVcv",
        "outputId": "72aa900b-e5dc-4e08-a948-ed7430926902"
      },
      "execution_count": 40,
      "outputs": [
        {
          "output_type": "stream",
          "name": "stdout",
          "text": [
            "Haruto Watanabe <re.Match object; span=(0, 15), match='Haruto Watanabe'>\n",
            "Alice Watanabe <re.Match object; span=(0, 14), match='Alice Watanabe'>\n",
            "RoboCop Watanabe <re.Match object; span=(4, 16), match='Cop Watanabe'>\n",
            "haruto Watanabe None\n",
            "Mr. Watanabe None\n",
            "Watanabe None\n",
            "Haruto watanabe None\n"
          ]
        }
      ]
    },
    {
      "cell_type": "markdown",
      "source": [
        "**22. How would you write a regex that matches a sentence where the first word is either Alice, Bob,or Carol; the second word is either eats, pets, or throws; the third word is apples, cats, or baseballs; and the sentence ends with a period? This regex should be case-insensitive. It must match the following:**\n",
        "\n",
        "**Ans**: \n",
        "'Alice eats apples.'\n",
        "\n",
        "'Bob pets cats.'\n",
        "\n",
        "'Carol throws baseballs.'\n",
        "\n",
        "'Alice throws Apples.'\n",
        "\n",
        "'BOB EATS CATS.'\n",
        "\n",
        "**but not the following:**\n",
        "\n",
        "'RoboCop eats apples.'\n",
        "\n",
        "'ALICE THROWS FOOTBALLS.'\n",
        "\n",
        "'Carol eats 7 cats.'\n",
        "\n"
      ],
      "metadata": {
        "id": "Vk88uPZZhOMB"
      }
    },
    {
      "cell_type": "code",
      "source": [
        "result = re.compile(r'(Alice|Bob|Carol)\\s(eats|pets|throws)\\s(apples|cats|baseballs)\\.', re.IGNORECASE)\n",
        "for sentence in [ 'Alice eats apples.','Bob pets cats.','Carol throws baseballs.','Alice throws Apples.','BOB EATS CATS.','RoboCop eats apples.','ALICE THROWS FOOTBALLS.','Carol eats 7 cats.']:\n",
        "  print(i, result.search(sentence))"
      ],
      "metadata": {
        "colab": {
          "base_uri": "https://localhost:8080/"
        },
        "id": "eU6rkbgwhfFQ",
        "outputId": "b8186cd5-bf44-47ea-ed3f-3c940771e9af"
      },
      "execution_count": 43,
      "outputs": [
        {
          "output_type": "stream",
          "name": "stdout",
          "text": [
            "12,34,567 <re.Match object; span=(0, 18), match='Alice eats apples.'>\n",
            "12,34,567 <re.Match object; span=(0, 14), match='Bob pets cats.'>\n",
            "12,34,567 <re.Match object; span=(0, 23), match='Carol throws baseballs.'>\n",
            "12,34,567 <re.Match object; span=(0, 20), match='Alice throws Apples.'>\n",
            "12,34,567 <re.Match object; span=(0, 14), match='BOB EATS CATS.'>\n",
            "12,34,567 None\n",
            "12,34,567 None\n",
            "12,34,567 None\n"
          ]
        }
      ]
    }
  ]
}