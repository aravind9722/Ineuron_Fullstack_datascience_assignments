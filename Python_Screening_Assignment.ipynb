{
  "nbformat": 4,
  "nbformat_minor": 0,
  "metadata": {
    "colab": {
      "name": "Python Screening Assignment.ipynb",
      "provenance": [],
      "collapsed_sections": [],
      "authorship_tag": "ABX9TyPpyZMsoDm2GNcxnv/2J7J2",
      "include_colab_link": true
    },
    "kernelspec": {
      "name": "python3",
      "display_name": "Python 3"
    },
    "language_info": {
      "name": "python"
    }
  },
  "cells": [
    {
      "cell_type": "markdown",
      "metadata": {
        "id": "view-in-github",
        "colab_type": "text"
      },
      "source": [
        "<a href=\"https://colab.research.google.com/github/aravind9722/Ineuron_Fullstack_datascience_assignments/blob/main/Python_Screening_Assignment.ipynb\" target=\"_parent\"><img src=\"https://colab.research.google.com/assets/colab-badge.svg\" alt=\"Open In Colab\"/></a>"
      ]
    },
    {
      "cell_type": "markdown",
      "source": [
        "## 1. Create a function in python to read the text file and replace specific content of the file."
      ],
      "metadata": {
        "id": "hyYnKGivgpGq"
      }
    },
    {
      "cell_type": "code",
      "source": [
        "## function\n",
        "def read_replace(find_text, replace_text, filename):\n",
        "  with open(filename, 'r') as file:\n",
        "    readtext = file.read()\n",
        "    replace = readtext.replace(find_text, replace_text)\n",
        "  with open(filename, 'w') as file:\n",
        "    file.write(replace)\n",
        "  return 'placement is replaced by screening'"
      ],
      "metadata": {
        "id": "CZbN9hltdnti"
      },
      "execution_count": null,
      "outputs": []
    },
    {
      "cell_type": "code",
      "source": [
        "# write file with Origin file content\n",
        "with open('example.txt', 'w') as f:\n",
        "  f.write('This is a placement assignment')\n",
        "\n",
        "# Use the read_replace function to replace string\n",
        "read_replace('placement','screening', 'example.txt')\n",
        "with open('example.txt', 'r') as f:\n",
        "  print('After Replacing : ' , f.read())"
      ],
      "metadata": {
        "colab": {
          "base_uri": "https://localhost:8080/"
        },
        "id": "jJMqzkeOfQjh",
        "outputId": "2f342bb1-277a-43ca-f348-d8997d018cf5"
      },
      "execution_count": null,
      "outputs": [
        {
          "output_type": "stream",
          "name": "stdout",
          "text": [
            "After Replacing :  This is a screening assignment\n"
          ]
        }
      ]
    },
    {
      "cell_type": "markdown",
      "source": [
        "## 2. Demonstrate use of abstract class, multiple inheritance and decorator in python using examples."
      ],
      "metadata": {
        "id": "99afBYQYlSGR"
      }
    },
    {
      "cell_type": "markdown",
      "source": [
        "**Abstract Class**"
      ],
      "metadata": {
        "id": "M5uW4mpd-YP4"
      }
    },
    {
      "cell_type": "code",
      "source": [
        "# Abstract class\n",
        "from abc import ABC, abstractmethod\n",
        "class calculate_area(ABC):\n",
        "  def text(self):\n",
        "    return 'This is an Abstract class example'\n",
        "  @abstractmethod # decorator\n",
        "  def area(self):\n",
        "      pass\n",
        "\n",
        "class square(calculate_area):\n",
        "  def __init__(self,side):\n",
        "    self.__side=side        \n",
        "  def area(self):\n",
        "    return self.__side*self.__side\n",
        "\n",
        "class rectangle(calculate_area):\n",
        "  def __init__(self, length, width):\n",
        "    self.length = length\n",
        "    self.width =  width\n",
        "  def area(self):\n",
        "    return self.length*self.width\n",
        "\n",
        "class triangle(calculate_area):\n",
        "  def __init__(self, base, height):\n",
        "    self.base= base\n",
        "    self.height= height\n",
        "  def area(self):\n",
        "    return 1/2*self.base*self.height\n",
        "\n",
        "S = square(2)\n",
        "print(S.text())\n",
        "print('Area of Square {} ' .format(S.area()))\n",
        "\n",
        "R= rectangle(4,2)\n",
        "print(\"\\n\",R.text())\n",
        "print('Area of Rectangle {} ' .format(R.area()))\n",
        "\n",
        "T= triangle(3,6)\n",
        "print(\"\\n\",T.text())\n",
        "print('Area of Triangle {} ' .format(T.area()))"
      ],
      "metadata": {
        "id": "KAajvyGWlXmQ"
      },
      "execution_count": null,
      "outputs": []
    },
    {
      "cell_type": "markdown",
      "source": [
        "**Multiple Inheritance**"
      ],
      "metadata": {
        "id": "fsRDXY6G-dIP"
      }
    },
    {
      "cell_type": "code",
      "source": [
        "# Multiple Inheritance \n",
        "\n",
        "class calculator1:  \n",
        "  def add(self,a,b):  \n",
        "      return a+b  \n",
        "class calculator2:  \n",
        "  def multiply(self,a,b):  \n",
        "      return a*b  \n",
        "class Derived(calculator1, calculator2):  \n",
        "  def divide(self,a,b):  \n",
        "      return a/b                                                        \n",
        "\n",
        "C = Derived()  \n",
        "print(C.add(10,20))  \n",
        "print(C.multiply(10,20))  \n",
        "print(C.divide(10,20))  "
      ],
      "metadata": {
        "colab": {
          "base_uri": "https://localhost:8080/"
        },
        "id": "TYkjT8j8x-bX",
        "outputId": "5201c0eb-4328-483f-d26d-d3a2bc744287"
      },
      "execution_count": null,
      "outputs": [
        {
          "output_type": "stream",
          "name": "stdout",
          "text": [
            "30\n",
            "200\n",
            "0.5\n"
          ]
        }
      ]
    },
    {
      "cell_type": "markdown",
      "source": [
        "**Decorator**"
      ],
      "metadata": {
        "id": "NiyAg0FX-ilP"
      }
    },
    {
      "cell_type": "code",
      "source": [
        "# decorator\n",
        "\n",
        "def odd_or_even(func):\n",
        "    def inner(a):\n",
        "        print(\"I am going to check ur input =\", a, \"if its odd or even\")\n",
        "        if a%2 != 0:\n",
        "          print(a, \"is an odd number\")\n",
        "        else: \n",
        "          print(a, \"is an even number\")  \n",
        "        return func()\n",
        "    return inner\n",
        "\n",
        "\n",
        "@odd_or_even #decorator\n",
        "def input():\n",
        "    pass"
      ],
      "metadata": {
        "id": "gOsR7N0Q1qj3"
      },
      "execution_count": null,
      "outputs": []
    },
    {
      "cell_type": "code",
      "source": [
        "input(266)"
      ],
      "metadata": {
        "colab": {
          "base_uri": "https://localhost:8080/"
        },
        "id": "T5LZsjlx8Qsv",
        "outputId": "1b1274bb-d010-443c-9981-3f88d1960774"
      },
      "execution_count": null,
      "outputs": [
        {
          "output_type": "stream",
          "name": "stdout",
          "text": [
            "I am going to check ur input = 266 if its odd or even\n",
            "266 is an even number\n"
          ]
        }
      ]
    },
    {
      "cell_type": "code",
      "source": [
        ""
      ],
      "metadata": {
        "id": "T9L_ykyz-2R3"
      },
      "execution_count": null,
      "outputs": []
    }
  ]
}